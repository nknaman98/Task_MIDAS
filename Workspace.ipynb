{
 "cells": [
  {
   "cell_type": "markdown",
   "metadata": {},
   "source": [
    "### Import library\n"
   ]
  },
  {
   "cell_type": "code",
   "execution_count": 1,
   "metadata": {},
   "outputs": [],
   "source": [
    "import numpy as np\n",
    "import pandas as pd\n",
    "import seaborn as sns\n",
    "import matplotlib.pyplot as plt\n"
   ]
  },
  {
   "cell_type": "markdown",
   "metadata": {},
   "source": [
    "## Read the data for assignment\n"
   ]
  },
  {
   "cell_type": "code",
   "execution_count": 2,
   "metadata": {},
   "outputs": [],
   "source": [
    "df = pd.read_csv('dataset.csv')"
   ]
  },
  {
   "cell_type": "code",
   "execution_count": 4,
   "metadata": {},
   "outputs": [
    {
     "name": "stdout",
     "output_type": "stream",
     "text": [
      "                            uniq_id            crawl_timestamp  \\\n",
      "0  c2d766ca982eca8304150849735ffef9  2016-03-25 22:59:23 +0000   \n",
      "1  7f7036a6d550aaa89d34c77bd39a5e48  2016-03-25 22:59:23 +0000   \n",
      "2  f449ec65dcbc041b6ae5e6a32717d01b  2016-03-25 22:59:23 +0000   \n",
      "3  0973b37acd0c664e3de26e97e5571454  2016-03-25 22:59:23 +0000   \n",
      "4  bc940ea42ee6bef5ac7cea3fb5cfbee7  2016-03-25 22:59:23 +0000   \n",
      "\n",
      "                                         product_url  \\\n",
      "0  http://www.flipkart.com/alisha-solid-women-s-c...   \n",
      "1  http://www.flipkart.com/fabhomedecor-fabric-do...   \n",
      "2  http://www.flipkart.com/aw-bellies/p/itmeh4grg...   \n",
      "3  http://www.flipkart.com/alisha-solid-women-s-c...   \n",
      "4  http://www.flipkart.com/sicons-all-purpose-arn...   \n",
      "\n",
      "                            product_name  \\\n",
      "0    Alisha Solid Women's Cycling Shorts   \n",
      "1    FabHomeDecor Fabric Double Sofa Bed   \n",
      "2                             AW Bellies   \n",
      "3    Alisha Solid Women's Cycling Shorts   \n",
      "4  Sicons All Purpose Arnica Dog Shampoo   \n",
      "\n",
      "                               product_category_tree               pid  \\\n",
      "0  [\"Clothing >> Women's Clothing >> Lingerie, Sl...  SRTEH2FF9KEDEFGF   \n",
      "1  [\"Furniture >> Living Room Furniture >> Sofa B...  SBEEH3QGU7MFYJFY   \n",
      "2  [\"Footwear >> Women's Footwear >> Ballerinas >...  SHOEH4GRSUBJGZXE   \n",
      "3  [\"Clothing >> Women's Clothing >> Lingerie, Sl...  SRTEH2F6HUZMQ6SJ   \n",
      "4  [\"Pet Supplies >> Grooming >> Skin & Coat Care...  PSOEH3ZYDMSYARJ5   \n",
      "\n",
      "   retail_price  discounted_price  \\\n",
      "0         999.0             379.0   \n",
      "1       32157.0           22646.0   \n",
      "2         999.0             499.0   \n",
      "3         699.0             267.0   \n",
      "4         220.0             210.0   \n",
      "\n",
      "                                               image  is_FK_Advantage_product  \\\n",
      "0  [\"http://img5a.flixcart.com/image/short/u/4/a/...                    False   \n",
      "1  [\"http://img6a.flixcart.com/image/sofa-bed/j/f...                    False   \n",
      "2  [\"http://img5a.flixcart.com/image/shoe/7/z/z/r...                    False   \n",
      "3  [\"http://img5a.flixcart.com/image/short/6/2/h/...                    False   \n",
      "4  [\"http://img5a.flixcart.com/image/pet-shampoo/...                    False   \n",
      "\n",
      "                                         description       product_rating  \\\n",
      "0  Key Features of Alisha Solid Women's Cycling S...  No rating available   \n",
      "1  FabHomeDecor Fabric Double Sofa Bed (Finish Co...  No rating available   \n",
      "2  Key Features of AW Bellies Sandals Wedges Heel...  No rating available   \n",
      "3  Key Features of Alisha Solid Women's Cycling S...  No rating available   \n",
      "4  Specifications of Sicons All Purpose Arnica Do...  No rating available   \n",
      "\n",
      "        overall_rating         brand  \\\n",
      "0  No rating available        Alisha   \n",
      "1  No rating available  FabHomeDecor   \n",
      "2  No rating available            AW   \n",
      "3  No rating available        Alisha   \n",
      "4  No rating available        Sicons   \n",
      "\n",
      "                              product_specifications  \n",
      "0  {\"product_specification\"=>[{\"key\"=>\"Number of ...  \n",
      "1  {\"product_specification\"=>[{\"key\"=>\"Installati...  \n",
      "2  {\"product_specification\"=>[{\"key\"=>\"Ideal For\"...  \n",
      "3  {\"product_specification\"=>[{\"key\"=>\"Number of ...  \n",
      "4  {\"product_specification\"=>[{\"key\"=>\"Pet Type\",...  \n"
     ]
    }
   ],
   "source": [
    "print(df.head(5))"
   ]
  },
  {
   "cell_type": "markdown",
   "metadata": {},
   "source": [
    "Understanding the problem statement to proceed further in problem \n"
   ]
  },
  {
   "cell_type": "markdown",
   "metadata": {},
   "source": [
    "will try to clean the data to understand the features "
   ]
  },
  {
   "cell_type": "code",
   "execution_count": 6,
   "metadata": {},
   "outputs": [
    {
     "name": "stdout",
     "output_type": "stream",
     "text": [
      "0    Key Features of Alisha Solid Women's Cycling S...\n",
      "Name: description, dtype: object\n"
     ]
    }
   ],
   "source": [
    "x=df.description.head(1)\n",
    "print(x)"
   ]
  },
  {
   "cell_type": "markdown",
   "metadata": {},
   "source": [
    "Getting Information ablout the data set\n"
   ]
  },
  {
   "cell_type": "code",
   "execution_count": 10,
   "metadata": {},
   "outputs": [
    {
     "name": "stdout",
     "output_type": "stream",
     "text": [
      "<class 'pandas.core.frame.DataFrame'>\n",
      "RangeIndex: 20000 entries, 0 to 19999\n",
      "Data columns (total 15 columns):\n",
      " #   Column                   Non-Null Count  Dtype  \n",
      "---  ------                   --------------  -----  \n",
      " 0   uniq_id                  20000 non-null  object \n",
      " 1   crawl_timestamp          20000 non-null  object \n",
      " 2   product_url              20000 non-null  object \n",
      " 3   product_name             20000 non-null  object \n",
      " 4   product_category_tree    20000 non-null  object \n",
      " 5   pid                      20000 non-null  object \n",
      " 6   retail_price             19922 non-null  float64\n",
      " 7   discounted_price         19922 non-null  float64\n",
      " 8   image                    19997 non-null  object \n",
      " 9   is_FK_Advantage_product  20000 non-null  bool   \n",
      " 10  description              19998 non-null  object \n",
      " 11  product_rating           20000 non-null  object \n",
      " 12  overall_rating           20000 non-null  object \n",
      " 13  brand                    14136 non-null  object \n",
      " 14  product_specifications   19986 non-null  object \n",
      "dtypes: bool(1), float64(2), object(12)\n",
      "memory usage: 2.2+ MB\n"
     ]
    }
   ],
   "source": [
    "df.info()"
   ]
  },
  {
   "cell_type": "code",
   "execution_count": 27,
   "metadata": {},
   "outputs": [
    {
     "name": "stdout",
     "output_type": "stream",
     "text": [
      "0    Key Features of Alisha Solid Women's Cycling S...\n",
      "1    FabHomeDecor Fabric Double Sofa Bed (Finish Co...\n",
      "2    Key Features of AW Bellies Sandals Wedges Heel...\n",
      "3    Key Features of Alisha Solid Women's Cycling S...\n",
      "4    Specifications of Sicons All Purpose Arnica Do...\n",
      "Name: description, dtype: object\n"
     ]
    }
   ],
   "source": [
    "print(df.description.())"
   ]
  },
  {
   "cell_type": "code",
   "execution_count": 3,
   "metadata": {},
   "outputs": [
    {
     "data": {
      "text/html": [
       "<div>\n",
       "<style scoped>\n",
       "    .dataframe tbody tr th:only-of-type {\n",
       "        vertical-align: middle;\n",
       "    }\n",
       "\n",
       "    .dataframe tbody tr th {\n",
       "        vertical-align: top;\n",
       "    }\n",
       "\n",
       "    .dataframe thead th {\n",
       "        text-align: right;\n",
       "    }\n",
       "</style>\n",
       "<table border=\"1\" class=\"dataframe\">\n",
       "  <thead>\n",
       "    <tr style=\"text-align: right;\">\n",
       "      <th></th>\n",
       "      <th>uniq_id</th>\n",
       "      <th>crawl_timestamp</th>\n",
       "      <th>product_url</th>\n",
       "      <th>product_name</th>\n",
       "      <th>product_category_tree</th>\n",
       "      <th>pid</th>\n",
       "      <th>image</th>\n",
       "      <th>description</th>\n",
       "      <th>product_rating</th>\n",
       "      <th>overall_rating</th>\n",
       "      <th>brand</th>\n",
       "      <th>product_specifications</th>\n",
       "    </tr>\n",
       "  </thead>\n",
       "  <tbody>\n",
       "    <tr>\n",
       "      <th>count</th>\n",
       "      <td>20000</td>\n",
       "      <td>20000</td>\n",
       "      <td>20000</td>\n",
       "      <td>20000</td>\n",
       "      <td>20000</td>\n",
       "      <td>20000</td>\n",
       "      <td>19997</td>\n",
       "      <td>19998</td>\n",
       "      <td>20000</td>\n",
       "      <td>20000</td>\n",
       "      <td>14136</td>\n",
       "      <td>19986</td>\n",
       "    </tr>\n",
       "    <tr>\n",
       "      <th>unique</th>\n",
       "      <td>20000</td>\n",
       "      <td>371</td>\n",
       "      <td>20000</td>\n",
       "      <td>12676</td>\n",
       "      <td>6466</td>\n",
       "      <td>19998</td>\n",
       "      <td>18589</td>\n",
       "      <td>17539</td>\n",
       "      <td>36</td>\n",
       "      <td>36</td>\n",
       "      <td>3499</td>\n",
       "      <td>18825</td>\n",
       "    </tr>\n",
       "    <tr>\n",
       "      <th>top</th>\n",
       "      <td>8d13cb7f8c0286efd61b24387e1067f0</td>\n",
       "      <td>2015-12-01 12:40:44 +0000</td>\n",
       "      <td>http://www.flipkart.com/noise-nosww028-round-d...</td>\n",
       "      <td>TheLostPuppy Back Cover for Apple iPad Air</td>\n",
       "      <td>[\"Jewellery &gt;&gt; Necklaces &amp; Chains &gt;&gt; Necklaces\"]</td>\n",
       "      <td>JEAEGE8Q8GXYFTGU</td>\n",
       "      <td>[\"http://img6a.flixcart.com/image/car-mat/m/t/...</td>\n",
       "      <td>TheLostPuppy Back Cover for Apple iPad Air (Mu...</td>\n",
       "      <td>No rating available</td>\n",
       "      <td>No rating available</td>\n",
       "      <td>Allure Auto</td>\n",
       "      <td>{\"product_specification\"=&gt;[{\"key\"=&gt;\"Type\", \"va...</td>\n",
       "    </tr>\n",
       "    <tr>\n",
       "      <th>freq</th>\n",
       "      <td>1</td>\n",
       "      <td>1979</td>\n",
       "      <td>1</td>\n",
       "      <td>134</td>\n",
       "      <td>1567</td>\n",
       "      <td>2</td>\n",
       "      <td>45</td>\n",
       "      <td>92</td>\n",
       "      <td>18151</td>\n",
       "      <td>18151</td>\n",
       "      <td>469</td>\n",
       "      <td>71</td>\n",
       "    </tr>\n",
       "  </tbody>\n",
       "</table>\n",
       "</div>"
      ],
      "text/plain": [
       "                                 uniq_id            crawl_timestamp  \\\n",
       "count                              20000                      20000   \n",
       "unique                             20000                        371   \n",
       "top     8d13cb7f8c0286efd61b24387e1067f0  2015-12-01 12:40:44 +0000   \n",
       "freq                                   1                       1979   \n",
       "\n",
       "                                              product_url  \\\n",
       "count                                               20000   \n",
       "unique                                              20000   \n",
       "top     http://www.flipkart.com/noise-nosww028-round-d...   \n",
       "freq                                                    1   \n",
       "\n",
       "                                      product_name  \\\n",
       "count                                        20000   \n",
       "unique                                       12676   \n",
       "top     TheLostPuppy Back Cover for Apple iPad Air   \n",
       "freq                                           134   \n",
       "\n",
       "                                   product_category_tree               pid  \\\n",
       "count                                              20000             20000   \n",
       "unique                                              6466             19998   \n",
       "top     [\"Jewellery >> Necklaces & Chains >> Necklaces\"]  JEAEGE8Q8GXYFTGU   \n",
       "freq                                                1567                 2   \n",
       "\n",
       "                                                    image  \\\n",
       "count                                               19997   \n",
       "unique                                              18589   \n",
       "top     [\"http://img6a.flixcart.com/image/car-mat/m/t/...   \n",
       "freq                                                   45   \n",
       "\n",
       "                                              description  \\\n",
       "count                                               19998   \n",
       "unique                                              17539   \n",
       "top     TheLostPuppy Back Cover for Apple iPad Air (Mu...   \n",
       "freq                                                   92   \n",
       "\n",
       "             product_rating       overall_rating        brand  \\\n",
       "count                 20000                20000        14136   \n",
       "unique                   36                   36         3499   \n",
       "top     No rating available  No rating available  Allure Auto   \n",
       "freq                  18151                18151          469   \n",
       "\n",
       "                                   product_specifications  \n",
       "count                                               19986  \n",
       "unique                                              18825  \n",
       "top     {\"product_specification\"=>[{\"key\"=>\"Type\", \"va...  \n",
       "freq                                                   71  "
      ]
     },
     "execution_count": 3,
     "metadata": {},
     "output_type": "execute_result"
    }
   ],
   "source": [
    "df.describe(include= np.object)"
   ]
  },
  {
   "cell_type": "code",
   "execution_count": 4,
   "metadata": {},
   "outputs": [
    {
     "data": {
      "text/plain": [
       "\"FabHomeDecor Fabric Double Sofa Bed (Finish Color - Leatherette Black Mechanism Type - Pull Out) Price: Rs. 22,646 • Fine deep seating experience • Save Space with the all new click clack Sofa Bed • Easy to fold and vice versa with simple click clack mechanism • Chrome legs with mango wood frame for long term durability • Double cushioned Sofa Bed to provide you with extra softness to make a fine seating experience • A double bed that can easily sleep two,Specifications of FabHomeDecor Fabric Double Sofa Bed (Finish Color - Leatherette Black Mechanism Type - Pull Out) Installation & Demo Installation & Demo Details Installation and demo for this product is done free of cost as part of this purchase. Our service partner will visit your location within 72 business hours from the delivery of the product. In The Box 1 Sofa Bed General Brand FabHomeDecor Mattress Included No Delivery Condition Knock Down Storage Included No Mechanism Type Pull Out Type Sofa Bed Style Contemporary & Modern Filling Material Microfiber Seating Capacity 3 Seater Upholstery Type NA Upholstery Included No Bed Size Double Shape Square Suitable For Living Room Model Number FHD112 Care Instructions Avoid outdoor use and exposure to water or prolonged moisture, Avoid exposure to direct heat or sunlight as this can cause the sofa colour to fade, Keep sharp objects away from your sofa, A little tear on the fabric cover may be hard to repair, Vacuum your sofas periodically with a soft bristled bru...View More Avoid outdoor use and exposure to water or prolonged moisture, Avoid exposure to direct heat or sunlight as this can cause the sofa colour to fade, Keep sharp objects away from your sofa, A little tear on the fabric cover may be hard to repair, Vacuum your sofas periodically with a soft bristled brush attachment or lightly brush them to keep general dirt and dust off the sofa and prevent any embedding between the fibres, Try to avoid food and drink spillage of any kind, If spills occur, do not leave unattended, In case of a stain, a water-free fabric cleaner can be used, However, avoid applying the cleaner directly on the stain as this can cause damage to the fabric and fade colour, Pour the cleaner onto a clean cloth and test its effect on a hidden area of the sofa before cleaning the stain with the cloth, A professional scotchguard treatment is one of the easiest and most effective options to protect against spills or stains and keep pet hair at bay, Getting your sofa professionally cleaned once every 6-8 months will not only take care of the nooks and corners that you can't reach, it will also make it more durable Finish Type Matte Important Note Cancellation NOT allowed for this product after 24 hrs of order booking. Warranty Covered in Warranty Warranty covers all kind of manufacturing defects. Concerned product will either be repaired or replaced based on discretion. Service Type Manufacturer Warranty Warranty Summary 6 Months Domestic Warranty Not Covered in Warranty Warranty does not cover for Improper Handling Dimensions Weight 40 kg Height 838 mm Width 1905 mm Depth 939 mm Disclaimer - The color of the product may vary slightly compared to the picture displayed on your screen. This is due to lighting, pixel quality and color settings - Please check the product's dimensions to ensure the product will fit in the desired location. Also, check if the product will fit through...View More - The color of the product may vary slightly compared to the picture displayed on your screen. This is due to lighting, pixel quality and color settings - Please check the product's dimensions to ensure the product will fit in the desired location. Also, check if the product will fit through the entrance(s) and door(s) of the premises - Please expect an unevenness of up to 5 mm in the product due to differences in surfaces and floor levels - Flipkart, or the Seller delivering the product, will not take up any type of civil work, such as drilling holes in the wall to mount the product. The product will only be assembled in case carpentry assembly is required - In case the product appears to lack shine, wiping the surface with a cloth will help clear the surface of dust particles Material & Color Upholstery Color Leatherette Black Primary Color Black Primary Material Fabric Secondary Material Subtype Mango Wood Secondary Material Foam Finish Color Leatherette Black Primary Material Subtype Foam\""
      ]
     },
     "execution_count": 4,
     "metadata": {},
     "output_type": "execute_result"
    }
   ],
   "source": [
    "df['description'][1]"
   ]
  },
  {
   "cell_type": "code",
   "execution_count": 14,
   "metadata": {},
   "outputs": [
    {
     "data": {
      "text/plain": [
       "0    [\"Clothing >> Women's Clothing >> Lingerie, Sl...\n",
       "1    [\"Furniture >> Living Room Furniture >> Sofa B...\n",
       "2    [\"Footwear >> Women's Footwear >> Ballerinas >...\n",
       "3    [\"Clothing >> Women's Clothing >> Lingerie, Sl...\n",
       "4    [\"Pet Supplies >> Grooming >> Skin & Coat Care...\n",
       "Name: product_category_tree, dtype: object"
      ]
     },
     "execution_count": 14,
     "metadata": {},
     "output_type": "execute_result"
    }
   ],
   "source": [
    "df['product_category_tree'][:5]"
   ]
  },
  {
   "cell_type": "code",
   "execution_count": 9,
   "metadata": {},
   "outputs": [
    {
     "data": {
      "text/plain": [
       "6466"
      ]
     },
     "execution_count": 9,
     "metadata": {},
     "output_type": "execute_result"
    }
   ],
   "source": [
    "df['product_category_tree'].nunique()"
   ]
  },
  {
   "cell_type": "markdown",
   "metadata": {},
   "source": [
    "## Finding out the categories"
   ]
  },
  {
   "cell_type": "code",
   "execution_count": 35,
   "metadata": {},
   "outputs": [
    {
     "ename": "NameError",
     "evalue": "name 'count' is not defined",
     "output_type": "error",
     "traceback": [
      "\u001b[0;31m---------------------------------------------------------------------------\u001b[0m",
      "\u001b[0;31mNameError\u001b[0m                                 Traceback (most recent call last)",
      "\u001b[0;32m<ipython-input-35-7e35bffedad4>\u001b[0m in \u001b[0;36m<module>\u001b[0;34m\u001b[0m\n\u001b[1;32m      1\u001b[0m \u001b[0;31m#incoorect way to iterate in notebookcount = 0\u001b[0m\u001b[0;34m\u001b[0m\u001b[0;34m\u001b[0m\u001b[0;34m\u001b[0m\u001b[0m\n\u001b[1;32m      2\u001b[0m \u001b[0;32mfor\u001b[0m \u001b[0mcolumn\u001b[0m \u001b[0;32min\u001b[0m \u001b[0mdf\u001b[0m\u001b[0;34m[\u001b[0m\u001b[0;34m[\u001b[0m\u001b[0;34m'product_category_tree'\u001b[0m\u001b[0;34m]\u001b[0m\u001b[0;34m]\u001b[0m\u001b[0;34m:\u001b[0m\u001b[0;34m\u001b[0m\u001b[0;34m\u001b[0m\u001b[0m\n\u001b[0;32m----> 3\u001b[0;31m     \u001b[0mcount\u001b[0m \u001b[0;34m=\u001b[0m \u001b[0mcount\u001b[0m \u001b[0;34m+\u001b[0m \u001b[0;36m2\u001b[0m\u001b[0;34m\u001b[0m\u001b[0;34m\u001b[0m\u001b[0m\n\u001b[0m\u001b[1;32m      4\u001b[0m     \u001b[0mprint\u001b[0m\u001b[0;34m(\u001b[0m\u001b[0mcount\u001b[0m\u001b[0;34m)\u001b[0m\u001b[0;34m\u001b[0m\u001b[0;34m\u001b[0m\u001b[0m\n\u001b[1;32m      5\u001b[0m     \u001b[0mval\u001b[0m \u001b[0;34m=\u001b[0m\u001b[0mdf\u001b[0m\u001b[0;34m[\u001b[0m\u001b[0mcolumn\u001b[0m\u001b[0;34m]\u001b[0m\u001b[0;34m\u001b[0m\u001b[0;34m\u001b[0m\u001b[0m\n",
      "\u001b[0;31mNameError\u001b[0m: name 'count' is not defined"
     ]
    }
   ],
   "source": [
    "#incoorect way to iterate in notebookcount = 0\n",
    "for column in df[['product_category_tree']]:\n",
    "    count = count + 2\n",
    "    print(count)\n",
    "    val =df[column]\n",
    "    parts = val.values\n",
    "    print(\"Part:\", parts)\n",
    "    print(len(parts))\n",
    "    category_head = parts[0][2:]\n",
    "    print(\"CH:\", category_head)"
   ]
  },
  {
   "cell_type": "code",
   "execution_count": 12,
   "metadata": {},
   "outputs": [],
   "source": [
    "from collections import Counter"
   ]
  },
  {
   "cell_type": "code",
   "execution_count": 37,
   "metadata": {},
   "outputs": [],
   "source": [
    "mylist = list()\n",
    "not_my_list =list()"
   ]
  },
  {
   "cell_type": "code",
   "execution_count": 38,
   "metadata": {},
   "outputs": [
    {
     "name": "stdout",
     "output_type": "stream",
     "text": [
      "19672\n",
      "Counter({'clothing ': 6198, 'jewellery ': 3531, 'footwear ': 1227, 'mobiles & accessories ': 1099, 'automotive ': 1012, 'home decor & festive needs ': 929, 'beauty and personal care ': 710, 'home furnishing ': 700, 'kitchen & dining ': 647, 'computers ': 578, 'watches ': 530, 'baby care ': 483, 'tools & hardware ': 391, 'toys & school supplies ': 330, 'pens & stationery ': 313, 'bags, wallets & belts ': 265, 'furniture ': 180, 'sports & fitness ': 166, 'cameras & accessories ': 82, 'home improvement ': 81, 'health & personal care appliances ': 43, 'gaming ': 35, 'sunglasses ': 35, 'pet supplies ': 30, 'home & kitchen ': 24, 'home entertainment ': 19, 'ebooks ': 15, 'eyewear ': 10, 'household supplies ': 4, 'food & nutrition ': 2, 'wearable smart devices ': 2, 'automation & robotics ': 1})\n"
     ]
    },
    {
     "data": {
      "text/plain": [
       "<BarContainer object of 32 artists>"
      ]
     },
     "execution_count": 38,
     "metadata": {},
     "output_type": "execute_result"
    },
    {
     "data": {
      "image/png": "[encoded data removed]",
      "text/plain": [
       "<Figure size 1800x720 with 1 Axes>"
      ]
     },
     "metadata": {
      "needs_background": "light"
     },
     "output_type": "display_data"
    }
   ],
   "source": [
    "for index, row in df.iterrows():\n",
    "    val=row['product_category_tree'].lower() \n",
    "    if(val.find('>>')!=-1):\n",
    "        \n",
    "        parts = val.split(\">>\")\n",
    "        category_head=parts[0][2:]\n",
    "        if(category_head[-1]==']'):\n",
    "            category_head = category_head[:-2]\n",
    "        mylist.append(category_head)\n",
    "    else:\n",
    "        not_my_list.append(val)\n",
    "print(len(mylist))        \n",
    "print(Counter(mylist))\n",
    "product_count=Counter(mylist)\n",
    "keys = product_count.keys()\n",
    "values = product_count.values()\n",
    "plt.xticks(rotation=90)\n",
    "plt.rcParams['figure.figsize']=(25,10)\n",
    "plt.bar(keys, values)"
   ]
  },
  {
   "cell_type": "code",
   "execution_count": 8,
   "metadata": {},
   "outputs": [
    {
     "name": "stdout",
     "output_type": "stream",
     "text": [
      "['clothing ', 'furniture ', 'footwear ', 'pet supplies ', 'pens & stationery ', 'sports & fitness ', 'beauty and personal care ', 'bags, wallets & belts ', 'home decor & festive needs ', 'automotive ', 'tools & hardware ', 'home furnishing ', 'baby care ', 'mobiles & accessories ', 'food & nutrition ', 'watches ', 'toys & school supplies ', 'jewellery ', 'kitchen & dining ', 'home & kitchen ', 'computers ', 'cameras & accessories ', 'health & personal care appliances ', 'gaming ', 'home improvement ', 'automation & robotics ', 'sunglasses ', 'home entertainment ', 'wearable smart devices ', 'eyewear ', 'ebooks ', 'household supplies ']\n"
     ]
    }
   ],
   "source": [
    "output = []\n",
    "for x in mylist:\n",
    "    if x not in output:\n",
    "        output.append(x)\n",
    "print(output)"
   ]
  },
  {
   "cell_type": "markdown",
   "metadata": {},
   "source": [
    "### Above is list of major product categories "
   ]
  },
  {
   "cell_type": "code",
   "execution_count": 15,
   "metadata": {},
   "outputs": [
    {
     "name": "stdout",
     "output_type": "stream",
     "text": [
      "328\n"
     ]
    }
   ],
   "source": [
    "print(len(not_my_list))"
   ]
  },
  {
   "cell_type": "markdown",
   "metadata": {},
   "source": [
    "Will not use 328 entry for classifcation of products for instance \n"
   ]
  },
  {
   "cell_type": "code",
   "execution_count": 16,
   "metadata": {},
   "outputs": [
    {
     "name": "stdout",
     "output_type": "stream",
     "text": [
      "32\n"
     ]
    }
   ],
   "source": [
    "print(len(output))"
   ]
  },
  {
   "cell_type": "markdown",
   "metadata": {},
   "source": [
    "#### total number of  catergories to classify the product  is 32"
   ]
  },
  {
   "cell_type": "code",
   "execution_count": 53,
   "metadata": {},
   "outputs": [
    {
     "ename": "AttributeError",
     "evalue": "'Series' object has no attribute 'iterrows'",
     "output_type": "error",
     "traceback": [
      "\u001b[0;31m---------------------------------------------------------------------------\u001b[0m",
      "\u001b[0;31mAttributeError\u001b[0m                            Traceback (most recent call last)",
      "\u001b[0;32m<ipython-input-53-c3cdba7edf36>\u001b[0m in \u001b[0;36m<module>\u001b[0;34m\u001b[0m\n\u001b[0;32m----> 1\u001b[0;31m \u001b[0;32mfor\u001b[0m \u001b[0mindex\u001b[0m\u001b[0;34m,\u001b[0m \u001b[0mrow\u001b[0m \u001b[0;32min\u001b[0m \u001b[0mdf\u001b[0m\u001b[0;34m[\u001b[0m\u001b[0;34m'product_category_tree'\u001b[0m\u001b[0;34m]\u001b[0m\u001b[0;34m.\u001b[0m\u001b[0miterrows\u001b[0m\u001b[0;34m(\u001b[0m\u001b[0;34m)\u001b[0m\u001b[0;34m:\u001b[0m\u001b[0;34m\u001b[0m\u001b[0;34m\u001b[0m\u001b[0m\n\u001b[0m\u001b[1;32m      2\u001b[0m     \u001b[0mprint\u001b[0m\u001b[0;34m(\u001b[0m\u001b[0mindex\u001b[0m\u001b[0;34m,\u001b[0m\u001b[0mrow\u001b[0m\u001b[0;34m)\u001b[0m\u001b[0;34m\u001b[0m\u001b[0;34m\u001b[0m\u001b[0m\n\u001b[1;32m      3\u001b[0m \u001b[0ms\u001b[0m \u001b[0;34m=\u001b[0m  \u001b[0mdf\u001b[0m\u001b[0;34m[\u001b[0m\u001b[0;34m'product_category_tree'\u001b[0m\u001b[0;34m]\u001b[0m\u001b[0;34m[\u001b[0m\u001b[0;36m2440\u001b[0m\u001b[0;34m]\u001b[0m\u001b[0;34m\u001b[0m\u001b[0;34m\u001b[0m\u001b[0m\n\u001b[1;32m      4\u001b[0m \u001b[0mparts\u001b[0m \u001b[0;34m=\u001b[0m \u001b[0ms\u001b[0m\u001b[0;34m.\u001b[0m\u001b[0msplit\u001b[0m\u001b[0;34m(\u001b[0m\u001b[0;34m\">>\"\u001b[0m\u001b[0;34m)\u001b[0m\u001b[0;34m\u001b[0m\u001b[0;34m\u001b[0m\u001b[0m\n\u001b[1;32m      5\u001b[0m \u001b[0mprint\u001b[0m\u001b[0;34m(\u001b[0m\u001b[0mparts\u001b[0m\u001b[0;34m)\u001b[0m\u001b[0;34m\u001b[0m\u001b[0;34m\u001b[0m\u001b[0m\n",
      "\u001b[0;32m~/anaconda3/lib/python3.8/site-packages/pandas/core/generic.py\u001b[0m in \u001b[0;36m__getattr__\u001b[0;34m(self, name)\u001b[0m\n\u001b[1;32m   5272\u001b[0m             \u001b[0;32mif\u001b[0m \u001b[0mself\u001b[0m\u001b[0;34m.\u001b[0m\u001b[0m_info_axis\u001b[0m\u001b[0;34m.\u001b[0m\u001b[0m_can_hold_identifiers_and_holds_name\u001b[0m\u001b[0;34m(\u001b[0m\u001b[0mname\u001b[0m\u001b[0;34m)\u001b[0m\u001b[0;34m:\u001b[0m\u001b[0;34m\u001b[0m\u001b[0;34m\u001b[0m\u001b[0m\n\u001b[1;32m   5273\u001b[0m                 \u001b[0;32mreturn\u001b[0m \u001b[0mself\u001b[0m\u001b[0;34m[\u001b[0m\u001b[0mname\u001b[0m\u001b[0;34m]\u001b[0m\u001b[0;34m\u001b[0m\u001b[0;34m\u001b[0m\u001b[0m\n\u001b[0;32m-> 5274\u001b[0;31m             \u001b[0;32mreturn\u001b[0m \u001b[0mobject\u001b[0m\u001b[0;34m.\u001b[0m\u001b[0m__getattribute__\u001b[0m\u001b[0;34m(\u001b[0m\u001b[0mself\u001b[0m\u001b[0;34m,\u001b[0m \u001b[0mname\u001b[0m\u001b[0;34m)\u001b[0m\u001b[0;34m\u001b[0m\u001b[0;34m\u001b[0m\u001b[0m\n\u001b[0m\u001b[1;32m   5275\u001b[0m \u001b[0;34m\u001b[0m\u001b[0m\n\u001b[1;32m   5276\u001b[0m     \u001b[0;32mdef\u001b[0m \u001b[0m__setattr__\u001b[0m\u001b[0;34m(\u001b[0m\u001b[0mself\u001b[0m\u001b[0;34m,\u001b[0m \u001b[0mname\u001b[0m\u001b[0;34m:\u001b[0m \u001b[0mstr\u001b[0m\u001b[0;34m,\u001b[0m \u001b[0mvalue\u001b[0m\u001b[0;34m)\u001b[0m \u001b[0;34m->\u001b[0m \u001b[0;32mNone\u001b[0m\u001b[0;34m:\u001b[0m\u001b[0;34m\u001b[0m\u001b[0;34m\u001b[0m\u001b[0m\n",
      "\u001b[0;31mAttributeError\u001b[0m: 'Series' object has no attribute 'iterrows'"
     ]
    }
   ],
   "source": [
    "#failed    for index, row in df['product_category_tree'].iterrows():\n",
    "#failed   print(index,row)\n",
    "s =  df['product_category_tree'][2440]\n",
    "parts = s.split(\">>\")\n",
    "print(parts) \n",
    "#slicing done\n",
    "category_head=parts[0][2:]\n",
    "#print(type(category_head ))\n",
    "#category_head = re.sub(r\"(\\)\", \" \", category_head)\n",
    "#category_head.replace('[', '')\n",
    "print(category_head)\n"
   ]
  }
 ],
 "metadata": {
  "kernelspec": {
   "display_name": "Python 3",
   "language": "python",
   "name": "python3"
  },
  "language_info": {
   "codemirror_mode": {
    "name": "ipython",
    "version": 3
   },
   "file_extension": ".py",
   "mimetype": "text/x-python",
   "name": "python",
   "nbconvert_exporter": "python",
   "pygments_lexer": "ipython3",
   "version": "3.8.3"
  }
 },
 "nbformat": 4,
 "nbformat_minor": 4
}
